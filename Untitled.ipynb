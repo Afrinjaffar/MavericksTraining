{
 "cells": [
  {
   "cell_type": "code",
   "execution_count": 92,
   "id": "7d6935ee",
   "metadata": {},
   "outputs": [
    {
     "data": {
      "application/vnd.jupyter.widget-view+json": {
       "model_id": "",
       "version_major": 2,
       "version_minor": 0
      },
      "text/plain": [
       "FloatProgress(value=0.0, bar_style='info', description='Progress:', layout=Layout(height='25px', width='50%'),…"
      ]
     },
     "metadata": {},
     "output_type": "display_data"
    }
   ],
   "source": [
    "from pyspark.context import SparkContext\n",
    "from awsglue.context import GlueContext\n",
    "from pyspark.sql import functions\n",
    "from awsglue.transforms import *\n",
    "from awsglue.dynamicframe import DynamicFrame\n"
   ]
  },
  {
   "cell_type": "code",
   "execution_count": 22,
   "id": "92759894",
   "metadata": {},
   "outputs": [
    {
     "data": {
      "application/vnd.jupyter.widget-view+json": {
       "model_id": "",
       "version_major": 2,
       "version_minor": 0
      },
      "text/plain": [
       "FloatProgress(value=0.0, bar_style='info', description='Progress:', layout=Layout(height='25px', width='50%'),…"
      ]
     },
     "metadata": {},
     "output_type": "display_data"
    },
    {
     "name": "stdout",
     "output_type": "stream",
     "text": [
      "<class 'pyspark.sql.session.SparkSession'>"
     ]
    }
   ],
   "source": [
    "type(spark)"
   ]
  },
  {
   "cell_type": "code",
   "execution_count": 94,
   "id": "876502c1",
   "metadata": {},
   "outputs": [
    {
     "data": {
      "application/vnd.jupyter.widget-view+json": {
       "model_id": "",
       "version_major": 2,
       "version_minor": 0
      },
      "text/plain": [
       "FloatProgress(value=0.0, bar_style='info', description='Progress:', layout=Layout(height='25px', width='50%'),…"
      ]
     },
     "metadata": {},
     "output_type": "display_data"
    }
   ],
   "source": [
    "sc=SparkContext.getOrCreate()"
   ]
  },
  {
   "cell_type": "code",
   "execution_count": null,
   "id": "b8472da6",
   "metadata": {},
   "outputs": [],
   "source": [
    "data=spark.read.csv('/home/jupyter/jupyter_default_dir/drug200.csv',header=True)"
   ]
  },
  {
   "cell_type": "code",
   "execution_count": 37,
   "id": "a50efb5c",
   "metadata": {},
   "outputs": [
    {
     "data": {
      "application/vnd.jupyter.widget-view+json": {
       "model_id": "",
       "version_major": 2,
       "version_minor": 0
      },
      "text/plain": [
       "FloatProgress(value=0.0, bar_style='info', description='Progress:', layout=Layout(height='25px', width='50%'),…"
      ]
     },
     "metadata": {},
     "output_type": "display_data"
    },
    {
     "name": "stdout",
     "output_type": "stream",
     "text": [
      "<class 'NoneType'>"
     ]
    }
   ],
   "source": [
    "type(data)"
   ]
  },
  {
   "cell_type": "code",
   "execution_count": 239,
   "id": "6607e018",
   "metadata": {},
   "outputs": [
    {
     "data": {
      "application/vnd.jupyter.widget-view+json": {
       "model_id": "",
       "version_major": 2,
       "version_minor": 0
      },
      "text/plain": [
       "FloatProgress(value=0.0, bar_style='info', description='Progress:', layout=Layout(height='25px', width='50%'),…"
      ]
     },
     "metadata": {},
     "output_type": "display_data"
    },
    {
     "name": "stdout",
     "output_type": "stream",
     "text": [
      "+---+---+------+-----------+-------+-----+\n",
      "|Age|Sex|    BP|Cholesterol|Na_to_K| Drug|\n",
      "+---+---+------+-----------+-------+-----+\n",
      "| 23|  F|  HIGH|       HIGH| 25.355|drugY|\n",
      "| 47|  M|   LOW|       HIGH| 13.093|drugC|\n",
      "| 47|  M|   LOW|       HIGH| 10.114|drugC|\n",
      "| 28|  F|NORMAL|       HIGH|  7.798|drugX|\n",
      "| 61|  F|   LOW|       HIGH| 18.043|drugY|\n",
      "| 22|  F|NORMAL|       HIGH|  8.607|drugX|\n",
      "| 49|  F|NORMAL|       HIGH| 16.275|drugY|\n",
      "| 41|  M|   LOW|       HIGH| 11.037|drugC|\n",
      "| 60|  M|NORMAL|       HIGH| 15.171|drugY|\n",
      "| 43|  M|   LOW|     NORMAL| 19.368|drugY|\n",
      "+---+---+------+-----------+-------+-----+\n",
      "only showing top 10 rows"
     ]
    }
   ],
   "source": [
    "data.show(10)"
   ]
  },
  {
   "cell_type": "code",
   "execution_count": 224,
   "id": "d17b684a",
   "metadata": {},
   "outputs": [
    {
     "data": {
      "application/vnd.jupyter.widget-view+json": {
       "model_id": "",
       "version_major": 2,
       "version_minor": 0
      },
      "text/plain": [
       "FloatProgress(value=0.0, bar_style='info', description='Progress:', layout=Layout(height='25px', width='50%'),…"
      ]
     },
     "metadata": {},
     "output_type": "display_data"
    },
    {
     "name": "stdout",
     "output_type": "stream",
     "text": [
      "root\n",
      " |-- Age: string (nullable = true)\n",
      " |-- Sex: string (nullable = true)\n",
      " |-- BP: string (nullable = true)\n",
      " |-- Cholesterol: string (nullable = true)\n",
      " |-- Na_to_K: string (nullable = true)\n",
      " |-- Drug: string (nullable = true)"
     ]
    }
   ],
   "source": [
    "data.printSchema()"
   ]
  },
  {
   "cell_type": "code",
   "execution_count": 61,
   "id": "7e1ea4fb",
   "metadata": {},
   "outputs": [
    {
     "data": {
      "application/vnd.jupyter.widget-view+json": {
       "model_id": "",
       "version_major": 2,
       "version_minor": 0
      },
      "text/plain": [
       "FloatProgress(value=0.0, bar_style='info', description='Progress:', layout=Layout(height='25px', width='50%'),…"
      ]
     },
     "metadata": {},
     "output_type": "display_data"
    }
   ],
   "source": [
    "from pyspark.sql.functions import lower,col,when"
   ]
  },
  {
   "cell_type": "code",
   "execution_count": 62,
   "id": "58f78bed",
   "metadata": {},
   "outputs": [
    {
     "data": {
      "application/vnd.jupyter.widget-view+json": {
       "model_id": "",
       "version_major": 2,
       "version_minor": 0
      },
      "text/plain": [
       "FloatProgress(value=0.0, bar_style='info', description='Progress:', layout=Layout(height='25px', width='50%'),…"
      ]
     },
     "metadata": {},
     "output_type": "display_data"
    },
    {
     "name": "stdout",
     "output_type": "stream",
     "text": [
      "+---+----+-------+---------+------------------+-----------+\n",
      "|Age| sex|Na_to_K|lower(BP)|lower(Cholesterol)|lower(Drug)|\n",
      "+---+----+-------+---------+------------------+-----------+\n",
      "| 61|null| 18.043|      low|              high|      drugy|\n",
      "| 60|null| 15.171|   normal|              high|      drugy|\n",
      "| 74|null| 20.942|      low|              high|      drugy|\n",
      "| 69|null| 11.455|      low|            normal|      drugx|\n",
      "| 57|null| 19.128|      low|            normal|      drugy|\n",
      "| 63|null| 25.917|   normal|              high|      drugy|\n",
      "| 74|null|  9.567|     high|              high|      drugb|\n",
      "| 65|null| 31.876|     high|            normal|      drugy|\n",
      "| 53|null| 14.133|   normal|              high|      drugx|\n",
      "| 73|null| 19.221|   normal|              high|      drugy|\n",
      "+---+----+-------+---------+------------------+-----------+\n",
      "only showing top 10 rows"
     ]
    }
   ],
   "source": [
    "data=data.select('*',lower(col('BP'))).drop('BP')\n",
    "data=data.select('*',lower(col('Cholesterol'))).drop('Cholesterol')\n",
    "data=data.select('*',lower(col('Drug'))).drop('Drug')\n",
    "data=data.filter(data[\"Age\"]>50)\n",
    "cndn=when(col(\"Sex\")==\"F\",\"female\").when(col(\"Sex\")==\"M\",\"male\")\n",
    "data=data.withColumn(\"sex\",cndn).show(10)\n"
   ]
  },
  {
   "cell_type": "code",
   "execution_count": 188,
   "id": "5a3bd41d",
   "metadata": {},
   "outputs": [
    {
     "data": {
      "application/vnd.jupyter.widget-view+json": {
       "model_id": "",
       "version_major": 2,
       "version_minor": 0
      },
      "text/plain": [
       "FloatProgress(value=0.0, bar_style='info', description='Progress:', layout=Layout(height='25px', width='50%'),…"
      ]
     },
     "metadata": {},
     "output_type": "display_data"
    },
    {
     "name": "stdout",
     "output_type": "stream",
     "text": [
      "+---+------+------+-----------+-------+-----+\n",
      "|Age|   Sex|    BP|Cholesterol|Na_to_K| Drug|\n",
      "+---+------+------+-----------+-------+-----+\n",
      "| 61|female|   low|       high| 18.043|drugy|\n",
      "| 60|  male|normal|       high| 15.171|drugy|\n",
      "| 74|female|   low|       high| 20.942|drugy|\n",
      "| 69|  male|   low|     normal| 11.455|drugx|\n",
      "| 57|  male|   low|     normal| 19.128|drugy|\n",
      "| 63|  male|normal|       high| 25.917|drugy|\n",
      "| 74|  male|  high|       high|  9.567|drugb|\n",
      "| 65|female|  high|     normal| 31.876|drugy|\n",
      "| 53|  male|normal|       high| 14.133|drugx|\n",
      "| 73|female|normal|       high| 19.221|drugy|\n",
      "+---+------+------+-----------+-------+-----+\n",
      "only showing top 10 rows"
     ]
    }
   ],
   "source": [
    "data.show(10)"
   ]
  },
  {
   "cell_type": "code",
   "execution_count": 77,
   "id": "bdc5fdfd",
   "metadata": {},
   "outputs": [
    {
     "data": {
      "application/vnd.jupyter.widget-view+json": {
       "model_id": "",
       "version_major": 2,
       "version_minor": 0
      },
      "text/plain": [
       "FloatProgress(value=0.0, bar_style='info', description='Progress:', layout=Layout(height='25px', width='50%'),…"
      ]
     },
     "metadata": {},
     "output_type": "display_data"
    }
   ],
   "source": [
    "data1=spark.read.csv('/home/jupyter/jupyter_default_dir/zomato.csv',header=True)"
   ]
  },
  {
   "cell_type": "code",
   "execution_count": 74,
   "id": "c7d7c6e9",
   "metadata": {},
   "outputs": [
    {
     "data": {
      "application/vnd.jupyter.widget-view+json": {
       "model_id": "",
       "version_major": 2,
       "version_minor": 0
      },
      "text/plain": [
       "FloatProgress(value=0.0, bar_style='info', description='Progress:', layout=Layout(height='25px', width='50%'),…"
      ]
     },
     "metadata": {},
     "output_type": "display_data"
    }
   ],
   "source": [
    "data2=spark.read.csv('/home/jupyter/jupyter_default_dir/CountryCode.csv',header=True)"
   ]
  },
  {
   "cell_type": "code",
   "execution_count": 79,
   "id": "67cb5084",
   "metadata": {},
   "outputs": [
    {
     "data": {
      "application/vnd.jupyter.widget-view+json": {
       "model_id": "",
       "version_major": 2,
       "version_minor": 0
      },
      "text/plain": [
       "FloatProgress(value=0.0, bar_style='info', description='Progress:', layout=Layout(height='25px', width='50%'),…"
      ]
     },
     "metadata": {},
     "output_type": "display_data"
    },
    {
     "name": "stdout",
     "output_type": "stream",
     "text": [
      "+---+-----------+-------------+--------------------+---+----------------+--------------------+--------------------+--------------------+-----------+-----------+--------------------+--------------------+----------------+-----------------+-------------------+-----------------+--------------------+-----------+----------------+------------+-----------+-----+\n",
      "| cc|    Country|Restaurant ID|     Restaurant Name| cc|            City|             Address|            Locality|    Locality Verbose|  Longitude|   Latitude|            Cuisines|Average Cost for two|        Currency|Has Table booking|Has Online delivery|Is delivering now|Switch to order menu|Price range|Aggregate rating|Rating color|Rating text|Votes|\n",
      "+---+-----------+-------------+--------------------+---+----------------+--------------------+--------------------+--------------------+-----------+-----------+--------------------+--------------------+----------------+-----------------+-------------------+-----------------+--------------------+-----------+----------------+------------+-----------+-----+\n",
      "|162|Phillipines|      6317637|    Le Petit Souffle|162|     Makati City|Third Floor, Cent...|Century City Mall...|Century City Mall...| 121.027535|  14.565443|French, Japanese,...|                1100|Botswana Pula(P)|              Yes|                 No|               No|                  No|          3|             4.8|  Dark Green|  Excellent|  314|\n",
      "|162|Phillipines|      6304287|    Izakaya Kikufuji|162|     Makati City|Little Tokyo, 227...|Little Tokyo, Leg...|Little Tokyo, Leg...| 121.014101|  14.553708|            Japanese|                1200|Botswana Pula(P)|              Yes|                 No|               No|                  No|          3|             4.5|  Dark Green|  Excellent|  591|\n",
      "|162|Phillipines|      6300002|Heat - Edsa Shang...|162|Mandaluyong City|Edsa Shangri-La, ...|Edsa Shangri-La, ...|Edsa Shangri-La, ...| 121.056831|  14.581404|Seafood, Asian, F...|                4000|Botswana Pula(P)|              Yes|                 No|               No|                  No|          4|             4.4|       Green|  Very Good|  270|\n",
      "|162|Phillipines|      6318506|                Ooma|162|Mandaluyong City|Third Floor, Mega...|SM Megamall, Orti...|SM Megamall, Orti...| 121.056475|  14.585318|     Japanese, Sushi|                1500|Botswana Pula(P)|               No|                 No|               No|                  No|          4|             4.9|  Dark Green|  Excellent|  365|\n",
      "|162|Phillipines|      6314302|         Sambo Kojin|162|Mandaluyong City|Third Floor, Mega...|SM Megamall, Orti...|SM Megamall, Orti...| 121.057508|   14.58445|    Japanese, Korean|                1500|Botswana Pula(P)|              Yes|                 No|               No|                  No|          4|             4.8|  Dark Green|  Excellent|  229|\n",
      "|162|Phillipines|     18189371|        Din Tai Fung|162|Mandaluyong City|Ground Floor, Meg...|SM Megamall, Orti...|SM Megamall, Orti...| 121.056314|  14.583764|             Chinese|                1000|Botswana Pula(P)|               No|                 No|               No|                  No|          3|             4.4|       Green|  Very Good|  336|\n",
      "|162|Phillipines|      6300781|          Buffet 101|162|      Pasay City|Building K, SM By...|SM by the Bay, Ma...|SM by the Bay, Ma...|120.9796667|14.53133333|     Asian, European|                2000|Botswana Pula(P)|              Yes|                 No|               No|                  No|          4|               4|       Green|  Very Good|  520|\n",
      "|162|Phillipines|      6301290|             Vikings|162|      Pasay City|Building B, By Th...|SM by the Bay, Ma...|SM by the Bay, Ma...|120.9793333|      14.54|Seafood, Filipino...|                2000|Botswana Pula(P)|              Yes|                 No|               No|                  No|          4|             4.2|       Green|  Very Good|  677|\n",
      "|162|Phillipines|      6300010|Spiral - Sofitel ...|162|      Pasay City|Plaza Level, Sofi...|Sofitel Philippin...|Sofitel Philippin...|  120.98009|   14.55299|European, Asian, ...|                6000|Botswana Pula(P)|              Yes|                 No|               No|                  No|          4|             4.9|  Dark Green|  Excellent|  621|\n",
      "|162|Phillipines|      6314987|            Locavore|162|      Pasig City|Brixton Technolog...|           Kapitolyo|Kapitolyo, Pasig ...| 121.056532|  14.572041|            Filipino|                1100|Botswana Pula(P)|              Yes|                 No|               No|                  No|          3|             4.8|  Dark Green|  Excellent|  532|\n",
      "+---+-----------+-------------+--------------------+---+----------------+--------------------+--------------------+--------------------+-----------+-----------+--------------------+--------------------+----------------+-----------------+-------------------+-----------------+--------------------+-----------+----------------+------------+-----------+-----+\n",
      "only showing top 10 rows"
     ]
    }
   ],
   "source": [
    "data_merge=data2.join(data1,data1[\"cc\"]==data2[\"cc\"],\"inner\").show(10)"
   ]
  },
  {
   "cell_type": "code",
   "execution_count": 51,
   "id": "7b938028",
   "metadata": {},
   "outputs": [
    {
     "data": {
      "application/vnd.jupyter.widget-view+json": {
       "model_id": "",
       "version_major": 2,
       "version_minor": 0
      },
      "text/plain": [
       "FloatProgress(value=0.0, bar_style='info', description='Progress:', layout=Layout(height='25px', width='50%'),…"
      ]
     },
     "metadata": {},
     "output_type": "display_data"
    }
   ],
   "source": [
    "data=spark.read.csv('/home/jupyter/jupyter_default_dir/insurance.csv',header=True)"
   ]
  },
  {
   "cell_type": "code",
   "execution_count": 52,
   "id": "e77606a5",
   "metadata": {},
   "outputs": [
    {
     "data": {
      "application/vnd.jupyter.widget-view+json": {
       "model_id": "",
       "version_major": 2,
       "version_minor": 0
      },
      "text/plain": [
       "FloatProgress(value=0.0, bar_style='info', description='Progress:', layout=Layout(height='25px', width='50%'),…"
      ]
     },
     "metadata": {},
     "output_type": "display_data"
    },
    {
     "name": "stdout",
     "output_type": "stream",
     "text": [
      "+----+------+------+--------+------+---------+-----------+\n",
      "| age|gender|   bmi|children|smoker|   region|    charges|\n",
      "+----+------+------+--------+------+---------+-----------+\n",
      "|  19|female|  27.9|       0|   yes|southwest|  16884.924|\n",
      "|  18|  male| 33.77|       1|    no|southeast|  1725.5523|\n",
      "|  28|  male|    33|       3|    no|southeast|   4449.462|\n",
      "|  33|  male|22.705|       0|    no|northwest|21984.47061|\n",
      "|  32|  male| 28.88|       0|    no|northwest|  3866.8552|\n",
      "|  31|female| 25.74|       0|  null|southeast|  3756.6216|\n",
      "|  46|female| 33.44|       1|    no|southeast|  8240.5896|\n",
      "|  37|female| 27.74|       3|    no|northwest|  7281.5056|\n",
      "|  37|  male| 29.83|       2|    no|northeast|  6406.4107|\n",
      "|null|female| 25.84|       0|    no|northwest|28923.13692|\n",
      "+----+------+------+--------+------+---------+-----------+\n",
      "only showing top 10 rows"
     ]
    }
   ],
   "source": [
    "data.show(10)"
   ]
  },
  {
   "cell_type": "code",
   "execution_count": 53,
   "id": "994fce7c",
   "metadata": {},
   "outputs": [
    {
     "data": {
      "application/vnd.jupyter.widget-view+json": {
       "model_id": "",
       "version_major": 2,
       "version_minor": 0
      },
      "text/plain": [
       "FloatProgress(value=0.0, bar_style='info', description='Progress:', layout=Layout(height='25px', width='50%'),…"
      ]
     },
     "metadata": {},
     "output_type": "display_data"
    }
   ],
   "source": [
    "data=data.filter(data['region']=='southeast')\n",
    "data=data.filter(data['age']>50)\n",
    "data=data.filter(data['gender']=='female')"
   ]
  },
  {
   "cell_type": "code",
   "execution_count": 54,
   "id": "ee92ee69",
   "metadata": {},
   "outputs": [
    {
     "data": {
      "application/vnd.jupyter.widget-view+json": {
       "model_id": "",
       "version_major": 2,
       "version_minor": 0
      },
      "text/plain": [
       "FloatProgress(value=0.0, bar_style='info', description='Progress:', layout=Layout(height='25px', width='50%'),…"
      ]
     },
     "metadata": {},
     "output_type": "display_data"
    },
    {
     "name": "stdout",
     "output_type": "stream",
     "text": [
      "+---+------+-----+--------+------+---------+-----------+\n",
      "|age|gender|  bmi|children|smoker|   region|    charges|\n",
      "+---+------+-----+--------+------+---------+-----------+\n",
      "| 62|female|26.29|       0|   yes|southeast|       null|\n",
      "| 56|female|39.82|       0|    no|southeast| 11090.7178|\n",
      "| 59|female|27.72|       3|    no|southeast| 14001.1338|\n",
      "| 60|female|24.53|       0|    no|southeast| 12629.8967|\n",
      "| 53|female|22.88|       1|   yes|southeast| 23244.7902|\n",
      "| 61|female|29.92|       3|   yes|southeast| 30942.1918|\n",
      "| 54|female| 31.9|       3|    no|southeast|27322.73386|\n",
      "| 51|female|37.73|       1|    no|southeast|  9877.6077|\n",
      "| 58|female|41.91|       0|    no|southeast|24227.33724|\n",
      "| 59|female|27.83|       3|    no|southeast| 14001.2867|\n",
      "+---+------+-----+--------+------+---------+-----------+\n",
      "only showing top 10 rows"
     ]
    }
   ],
   "source": [
    "data.show(10)"
   ]
  },
  {
   "cell_type": "code",
   "execution_count": 119,
   "id": "319ddd1a",
   "metadata": {},
   "outputs": [
    {
     "data": {
      "application/vnd.jupyter.widget-view+json": {
       "model_id": "",
       "version_major": 2,
       "version_minor": 0
      },
      "text/plain": [
       "FloatProgress(value=0.0, bar_style='info', description='Progress:', layout=Layout(height='25px', width='50%'),…"
      ]
     },
     "metadata": {},
     "output_type": "display_data"
    }
   ],
   "source": [
    "data=spark.read.csv('/home/jupyter/jupyter_default_dir/covid_19_data.csv',header=True,sep=',')"
   ]
  },
  {
   "cell_type": "code",
   "execution_count": 30,
   "id": "e575684a",
   "metadata": {},
   "outputs": [
    {
     "data": {
      "application/vnd.jupyter.widget-view+json": {
       "model_id": "",
       "version_major": 2,
       "version_minor": 0
      },
      "text/plain": [
       "FloatProgress(value=0.0, bar_style='info', description='Progress:', layout=Layout(height='25px', width='50%'),…"
      ]
     },
     "metadata": {},
     "output_type": "display_data"
    },
    {
     "name": "stdout",
     "output_type": "stream",
     "text": [
      "<class 'pyspark.sql.dataframe.DataFrame'>"
     ]
    }
   ],
   "source": [
    "type(data1)"
   ]
  },
  {
   "cell_type": "code",
   "execution_count": 108,
   "id": "6ac8d28b",
   "metadata": {},
   "outputs": [
    {
     "data": {
      "application/vnd.jupyter.widget-view+json": {
       "model_id": "",
       "version_major": 2,
       "version_minor": 0
      },
      "text/plain": [
       "FloatProgress(value=0.0, bar_style='info', description='Progress:', layout=Layout(height='25px', width='50%'),…"
      ]
     },
     "metadata": {},
     "output_type": "display_data"
    },
    {
     "name": "stdout",
     "output_type": "stream",
     "text": [
      "+--------------+--------------------+--------------+\n",
      "|Country/Region|      Province/State|max(Confirmed)|\n",
      "+--------------+--------------------+--------------+\n",
      "|            US|  Douglas County, CO|           3.0|\n",
      "|          Chad|                null|           9.0|\n",
      "|      Paraguay|                null|          96.0|\n",
      "|        Russia|                null|       99399.0|\n",
      "|            US|            Michigan|        9315.0|\n",
      "|Mainland China|               Gansu|          91.0|\n",
      "|            US|            Colorado|        9730.0|\n",
      "|            US|Grand Princess Cr...|          21.0|\n",
      "| North Ireland|                null|           1.0|\n",
      "|            US|            Missouri|         915.0|\n",
      "+--------------+--------------------+--------------+\n",
      "only showing top 10 rows"
     ]
    }
   ],
   "source": [
    "data.show(10)"
   ]
  },
  {
   "cell_type": "code",
   "execution_count": 109,
   "id": "d9df017d",
   "metadata": {},
   "outputs": [
    {
     "data": {
      "application/vnd.jupyter.widget-view+json": {
       "model_id": "",
       "version_major": 2,
       "version_minor": 0
      },
      "text/plain": [
       "FloatProgress(value=0.0, bar_style='info', description='Progress:', layout=Layout(height='25px', width='50%'),…"
      ]
     },
     "metadata": {},
     "output_type": "display_data"
    },
    {
     "name": "stdout",
     "output_type": "stream",
     "text": [
      "root\n",
      " |-- Country/Region: string (nullable = true)\n",
      " |-- Province/State: string (nullable = true)\n",
      " |-- max(Confirmed): string (nullable = true)"
     ]
    }
   ],
   "source": [
    "data.printSchema()"
   ]
  },
  {
   "cell_type": "code",
   "execution_count": 113,
   "id": "c7d9f151",
   "metadata": {},
   "outputs": [
    {
     "data": {
      "application/vnd.jupyter.widget-view+json": {
       "model_id": "",
       "version_major": 2,
       "version_minor": 0
      },
      "text/plain": [
       "FloatProgress(value=0.0, bar_style='info', description='Progress:', layout=Layout(height='25px', width='50%'),…"
      ]
     },
     "metadata": {},
     "output_type": "display_data"
    }
   ],
   "source": [
    "data1=data.groupby(['Country/Region','Province/State']).agg({'Confirmed':'max'})"
   ]
  },
  {
   "cell_type": "code",
   "execution_count": 120,
   "id": "5b1212af",
   "metadata": {},
   "outputs": [
    {
     "data": {
      "application/vnd.jupyter.widget-view+json": {
       "model_id": "",
       "version_major": 2,
       "version_minor": 0
      },
      "text/plain": [
       "FloatProgress(value=0.0, bar_style='info', description='Progress:', layout=Layout(height='25px', width='50%'),…"
      ]
     },
     "metadata": {},
     "output_type": "display_data"
    }
   ],
   "source": [
    "data2=data.groupby(['Country/Region','Province/State']).agg({'Recovered':'max'})"
   ]
  },
  {
   "cell_type": "code",
   "execution_count": 121,
   "id": "6d8a12bb",
   "metadata": {
    "scrolled": true
   },
   "outputs": [
    {
     "data": {
      "application/vnd.jupyter.widget-view+json": {
       "model_id": "",
       "version_major": 2,
       "version_minor": 0
      },
      "text/plain": [
       "FloatProgress(value=0.0, bar_style='info', description='Progress:', layout=Layout(height='25px', width='50%'),…"
      ]
     },
     "metadata": {},
     "output_type": "display_data"
    }
   ],
   "source": [
    "data3=data.groupby(['Country/Region','Province/State']).agg({'Deaths':'max'})"
   ]
  },
  {
   "cell_type": "code",
   "execution_count": 123,
   "id": "00b89b18",
   "metadata": {},
   "outputs": [
    {
     "data": {
      "application/vnd.jupyter.widget-view+json": {
       "model_id": "",
       "version_major": 2,
       "version_minor": 0
      },
      "text/plain": [
       "FloatProgress(value=0.0, bar_style='info', description='Progress:', layout=Layout(height='25px', width='50%'),…"
      ]
     },
     "metadata": {},
     "output_type": "display_data"
    },
    {
     "name": "stdout",
     "output_type": "stream",
     "text": [
      "+--------------+--------------------+--------------+\n",
      "|Country/Region|      Province/State|max(Confirmed)|\n",
      "+--------------+--------------------+--------------+\n",
      "|            US|  Douglas County, CO|           3.0|\n",
      "|          Chad|                null|           9.0|\n",
      "|      Paraguay|                null|          96.0|\n",
      "|        Russia|                null|       99399.0|\n",
      "|            US|            Michigan|        9315.0|\n",
      "|Mainland China|               Gansu|          91.0|\n",
      "|            US|            Colorado|        9730.0|\n",
      "|            US|Grand Princess Cr...|          21.0|\n",
      "| North Ireland|                null|           1.0|\n",
      "|            US|            Missouri|         915.0|\n",
      "+--------------+--------------------+--------------+\n",
      "only showing top 10 rows\n",
      "\n",
      "+--------------+------------------+--------------+\n",
      "|Country/Region|    Province/State|max(Recovered)|\n",
      "+--------------+------------------+--------------+\n",
      "|            US|Douglas County, CO|           0.0|\n",
      "|          Chad|              null|           8.0|\n",
      "|      Paraguay|              null|          93.0|\n",
      "|        Russia|              null|           9.0|\n",
      "|            US|          Michigan|           0.0|\n",
      "+--------------+------------------+--------------+\n",
      "only showing top 5 rows\n",
      "\n",
      "+--------------+------------------+-----------+\n",
      "|Country/Region|    Province/State|max(Deaths)|\n",
      "+--------------+------------------+-----------+\n",
      "|            US|Douglas County, CO|        0.0|\n",
      "|          Chad|              null|        5.0|\n",
      "|      Paraguay|              null|        9.0|\n",
      "|        Russia|              null|      972.0|\n",
      "|            US|          Michigan|      959.0|\n",
      "+--------------+------------------+-----------+\n",
      "only showing top 5 rows"
     ]
    }
   ],
   "source": [
    "data1.show(10)\n",
    "data2.show(5)\n",
    "data3.show(5)"
   ]
  },
  {
   "cell_type": "code",
   "execution_count": 67,
   "id": "173fd59c",
   "metadata": {},
   "outputs": [
    {
     "data": {
      "application/vnd.jupyter.widget-view+json": {
       "model_id": "",
       "version_major": 2,
       "version_minor": 0
      },
      "text/plain": [
       "FloatProgress(value=0.0, bar_style='info', description='Progress:', layout=Layout(height='25px', width='50%'),…"
      ]
     },
     "metadata": {},
     "output_type": "display_data"
    }
   ],
   "source": [
    "data1=data1.groupby(['Country/Region','Province/State']).agg({'Confirmed':'max','Deaths':'max','Recovered':'max'})"
   ]
  },
  {
   "cell_type": "code",
   "execution_count": 68,
   "id": "c4898bb0",
   "metadata": {},
   "outputs": [
    {
     "data": {
      "application/vnd.jupyter.widget-view+json": {
       "model_id": "",
       "version_major": 2,
       "version_minor": 0
      },
      "text/plain": [
       "FloatProgress(value=0.0, bar_style='info', description='Progress:', layout=Layout(height='25px', width='50%'),…"
      ]
     },
     "metadata": {},
     "output_type": "display_data"
    },
    {
     "name": "stdout",
     "output_type": "stream",
     "text": [
      "+--------------+------------------+--------------+-----------+--------------+\n",
      "|Country/Region|    Province/State|max(Recovered)|max(Deaths)|max(Confirmed)|\n",
      "+--------------+------------------+--------------+-----------+--------------+\n",
      "|            US|Douglas County, CO|           0.0|        0.0|           3.0|\n",
      "|          Chad|              null|           8.0|        5.0|           9.0|\n",
      "|      Paraguay|              null|          93.0|        9.0|          96.0|\n",
      "|        Russia|              null|           9.0|      972.0|       99399.0|\n",
      "|            US|          Michigan|           0.0|      959.0|        9315.0|\n",
      "+--------------+------------------+--------------+-----------+--------------+\n",
      "only showing top 5 rows"
     ]
    }
   ],
   "source": [
    "data1.show(5)"
   ]
  },
  {
   "cell_type": "code",
   "execution_count": null,
   "id": "dc8fe499",
   "metadata": {},
   "outputs": [],
   "source": []
  }
 ],
 "metadata": {
  "kernelspec": {
   "display_name": "PySpark",
   "language": "",
   "name": "pysparkkernel"
  },
  "language_info": {
   "codemirror_mode": {
    "name": "python",
    "version": 3
   },
   "mimetype": "text/x-python",
   "name": "pyspark",
   "pygments_lexer": "python3"
  }
 },
 "nbformat": 4,
 "nbformat_minor": 5
}
