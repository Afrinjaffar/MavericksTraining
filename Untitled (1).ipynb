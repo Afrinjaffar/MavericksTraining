{
 "cells": [
  {
   "cell_type": "code",
   "execution_count": 92,
   "id": "7d6935ee",
   "metadata": {},
   "outputs": [
    {
     "data": {
      "application/vnd.jupyter.widget-view+json": {
       "model_id": "",
       "version_major": 2,
       "version_minor": 0
      },
      "text/plain": [
       "FloatProgress(value=0.0, bar_style='info', description='Progress:', layout=Layout(height='25px', width='50%'),…"
      ]
     },
     "metadata": {},
     "output_type": "display_data"
    }
   ],
   "source": [
    "from pyspark.context import SparkContext\n",
    "from awsglue.context import GlueContext\n",
    "from pyspark.sql import functions\n",
    "from awsglue.transforms import *\n",
    "from awsglue.dynamicframe import DynamicFrame\n"
   ]
  },
  {
   "cell_type": "code",
   "execution_count": 22,
   "id": "92759894",
   "metadata": {},
   "outputs": [
    {
     "data": {
      "application/vnd.jupyter.widget-view+json": {
       "model_id": "",
       "version_major": 2,
       "version_minor": 0
      },
      "text/plain": [
       "FloatProgress(value=0.0, bar_style='info', description='Progress:', layout=Layout(height='25px', width='50%'),…"
      ]
     },
     "metadata": {},
     "output_type": "display_data"
    },
    {
     "name": "stdout",
     "output_type": "stream",
     "text": [
      "<class 'pyspark.sql.session.SparkSession'>"
     ]
    }
   ],
   "source": [
    "type(spark)"
   ]
  },
  {
   "cell_type": "code",
   "execution_count": 94,
   "id": "876502c1",
   "metadata": {},
   "outputs": [
    {
     "data": {
      "application/vnd.jupyter.widget-view+json": {
       "model_id": "",
       "version_major": 2,
       "version_minor": 0
      },
      "text/plain": [
       "FloatProgress(value=0.0, bar_style='info', description='Progress:', layout=Layout(height='25px', width='50%'),…"
      ]
     },
     "metadata": {},
     "output_type": "display_data"
    }
   ],
   "source": [
    "sc=SparkContext.getOrCreate()"
   ]
  },
  {
   "cell_type": "code",
   "execution_count": 119,
   "id": "319ddd1a",
   "metadata": {},
   "outputs": [
    {
     "data": {
      "application/vnd.jupyter.widget-view+json": {
       "model_id": "",
       "version_major": 2,
       "version_minor": 0
      },
      "text/plain": [
       "FloatProgress(value=0.0, bar_style='info', description='Progress:', layout=Layout(height='25px', width='50%'),…"
      ]
     },
     "metadata": {},
     "output_type": "display_data"
    }
   ],
   "source": [
    "data=spark.read.csv('/home/jupyter/jupyter_default_dir/covid_19_data.csv',header=True,sep=',')"
   ]
  },
  {
   "cell_type": "code",
   "execution_count": 30,
   "id": "e575684a",
   "metadata": {},
   "outputs": [
    {
     "data": {
      "application/vnd.jupyter.widget-view+json": {
       "model_id": "",
       "version_major": 2,
       "version_minor": 0
      },
      "text/plain": [
       "FloatProgress(value=0.0, bar_style='info', description='Progress:', layout=Layout(height='25px', width='50%'),…"
      ]
     },
     "metadata": {},
     "output_type": "display_data"
    },
    {
     "name": "stdout",
     "output_type": "stream",
     "text": [
      "<class 'pyspark.sql.dataframe.DataFrame'>"
     ]
    }
   ],
   "source": [
    "type(data1)"
   ]
  },
  {
   "cell_type": "code",
   "execution_count": 108,
   "id": "6ac8d28b",
   "metadata": {},
   "outputs": [
    {
     "data": {
      "application/vnd.jupyter.widget-view+json": {
       "model_id": "",
       "version_major": 2,
       "version_minor": 0
      },
      "text/plain": [
       "FloatProgress(value=0.0, bar_style='info', description='Progress:', layout=Layout(height='25px', width='50%'),…"
      ]
     },
     "metadata": {},
     "output_type": "display_data"
    },
    {
     "name": "stdout",
     "output_type": "stream",
     "text": [
      "+--------------+--------------------+--------------+\n",
      "|Country/Region|      Province/State|max(Confirmed)|\n",
      "+--------------+--------------------+--------------+\n",
      "|            US|  Douglas County, CO|           3.0|\n",
      "|          Chad|                null|           9.0|\n",
      "|      Paraguay|                null|          96.0|\n",
      "|        Russia|                null|       99399.0|\n",
      "|            US|            Michigan|        9315.0|\n",
      "|Mainland China|               Gansu|          91.0|\n",
      "|            US|            Colorado|        9730.0|\n",
      "|            US|Grand Princess Cr...|          21.0|\n",
      "| North Ireland|                null|           1.0|\n",
      "|            US|            Missouri|         915.0|\n",
      "+--------------+--------------------+--------------+\n",
      "only showing top 10 rows"
     ]
    }
   ],
   "source": [
    "data.show(10)"
   ]
  },
  {
   "cell_type": "code",
   "execution_count": 109,
   "id": "d9df017d",
   "metadata": {},
   "outputs": [
    {
     "data": {
      "application/vnd.jupyter.widget-view+json": {
       "model_id": "",
       "version_major": 2,
       "version_minor": 0
      },
      "text/plain": [
       "FloatProgress(value=0.0, bar_style='info', description='Progress:', layout=Layout(height='25px', width='50%'),…"
      ]
     },
     "metadata": {},
     "output_type": "display_data"
    },
    {
     "name": "stdout",
     "output_type": "stream",
     "text": [
      "root\n",
      " |-- Country/Region: string (nullable = true)\n",
      " |-- Province/State: string (nullable = true)\n",
      " |-- max(Confirmed): string (nullable = true)"
     ]
    }
   ],
   "source": [
    "data.printSchema()"
   ]
  },
  {
   "cell_type": "code",
   "execution_count": 113,
   "id": "c7d9f151",
   "metadata": {},
   "outputs": [
    {
     "data": {
      "application/vnd.jupyter.widget-view+json": {
       "model_id": "",
       "version_major": 2,
       "version_minor": 0
      },
      "text/plain": [
       "FloatProgress(value=0.0, bar_style='info', description='Progress:', layout=Layout(height='25px', width='50%'),…"
      ]
     },
     "metadata": {},
     "output_type": "display_data"
    }
   ],
   "source": [
    "data1=data.groupby(['Country/Region','Province/State']).agg({'Confirmed':'max'})"
   ]
  },
  {
   "cell_type": "code",
   "execution_count": 120,
   "id": "5b1212af",
   "metadata": {},
   "outputs": [
    {
     "data": {
      "application/vnd.jupyter.widget-view+json": {
       "model_id": "",
       "version_major": 2,
       "version_minor": 0
      },
      "text/plain": [
       "FloatProgress(value=0.0, bar_style='info', description='Progress:', layout=Layout(height='25px', width='50%'),…"
      ]
     },
     "metadata": {},
     "output_type": "display_data"
    }
   ],
   "source": [
    "data2=data.groupby(['Country/Region','Province/State']).agg({'Recovered':'max'})"
   ]
  },
  {
   "cell_type": "code",
   "execution_count": 121,
   "id": "6d8a12bb",
   "metadata": {
    "scrolled": true
   },
   "outputs": [
    {
     "data": {
      "application/vnd.jupyter.widget-view+json": {
       "model_id": "",
       "version_major": 2,
       "version_minor": 0
      },
      "text/plain": [
       "FloatProgress(value=0.0, bar_style='info', description='Progress:', layout=Layout(height='25px', width='50%'),…"
      ]
     },
     "metadata": {},
     "output_type": "display_data"
    }
   ],
   "source": [
    "data3=data.groupby(['Country/Region','Province/State']).agg({'Deaths':'max'})"
   ]
  },
  {
   "cell_type": "code",
   "execution_count": 123,
   "id": "00b89b18",
   "metadata": {},
   "outputs": [
    {
     "data": {
      "application/vnd.jupyter.widget-view+json": {
       "model_id": "",
       "version_major": 2,
       "version_minor": 0
      },
      "text/plain": [
       "FloatProgress(value=0.0, bar_style='info', description='Progress:', layout=Layout(height='25px', width='50%'),…"
      ]
     },
     "metadata": {},
     "output_type": "display_data"
    },
    {
     "name": "stdout",
     "output_type": "stream",
     "text": [
      "+--------------+--------------------+--------------+\n",
      "|Country/Region|      Province/State|max(Confirmed)|\n",
      "+--------------+--------------------+--------------+\n",
      "|            US|  Douglas County, CO|           3.0|\n",
      "|          Chad|                null|           9.0|\n",
      "|      Paraguay|                null|          96.0|\n",
      "|        Russia|                null|       99399.0|\n",
      "|            US|            Michigan|        9315.0|\n",
      "|Mainland China|               Gansu|          91.0|\n",
      "|            US|            Colorado|        9730.0|\n",
      "|            US|Grand Princess Cr...|          21.0|\n",
      "| North Ireland|                null|           1.0|\n",
      "|            US|            Missouri|         915.0|\n",
      "+--------------+--------------------+--------------+\n",
      "only showing top 10 rows\n",
      "\n",
      "+--------------+------------------+--------------+\n",
      "|Country/Region|    Province/State|max(Recovered)|\n",
      "+--------------+------------------+--------------+\n",
      "|            US|Douglas County, CO|           0.0|\n",
      "|          Chad|              null|           8.0|\n",
      "|      Paraguay|              null|          93.0|\n",
      "|        Russia|              null|           9.0|\n",
      "|            US|          Michigan|           0.0|\n",
      "+--------------+------------------+--------------+\n",
      "only showing top 5 rows\n",
      "\n",
      "+--------------+------------------+-----------+\n",
      "|Country/Region|    Province/State|max(Deaths)|\n",
      "+--------------+------------------+-----------+\n",
      "|            US|Douglas County, CO|        0.0|\n",
      "|          Chad|              null|        5.0|\n",
      "|      Paraguay|              null|        9.0|\n",
      "|        Russia|              null|      972.0|\n",
      "|            US|          Michigan|      959.0|\n",
      "+--------------+------------------+-----------+\n",
      "only showing top 5 rows"
     ]
    }
   ],
   "source": [
    "data1.show(10)\n",
    "data2.show(5)\n",
    "data3.show(5)"
   ]
  },
  {
   "cell_type": "code",
   "execution_count": 67,
   "id": "173fd59c",
   "metadata": {},
   "outputs": [
    {
     "data": {
      "application/vnd.jupyter.widget-view+json": {
       "model_id": "",
       "version_major": 2,
       "version_minor": 0
      },
      "text/plain": [
       "FloatProgress(value=0.0, bar_style='info', description='Progress:', layout=Layout(height='25px', width='50%'),…"
      ]
     },
     "metadata": {},
     "output_type": "display_data"
    }
   ],
   "source": [
    "data1=data1.groupby(['Country/Region','Province/State']).agg({'Confirmed':'max','Deaths':'max','Recovered':'max'})"
   ]
  },
  {
   "cell_type": "code",
   "execution_count": 68,
   "id": "c4898bb0",
   "metadata": {},
   "outputs": [
    {
     "data": {
      "application/vnd.jupyter.widget-view+json": {
       "model_id": "",
       "version_major": 2,
       "version_minor": 0
      },
      "text/plain": [
       "FloatProgress(value=0.0, bar_style='info', description='Progress:', layout=Layout(height='25px', width='50%'),…"
      ]
     },
     "metadata": {},
     "output_type": "display_data"
    },
    {
     "name": "stdout",
     "output_type": "stream",
     "text": [
      "+--------------+------------------+--------------+-----------+--------------+\n",
      "|Country/Region|    Province/State|max(Recovered)|max(Deaths)|max(Confirmed)|\n",
      "+--------------+------------------+--------------+-----------+--------------+\n",
      "|            US|Douglas County, CO|           0.0|        0.0|           3.0|\n",
      "|          Chad|              null|           8.0|        5.0|           9.0|\n",
      "|      Paraguay|              null|          93.0|        9.0|          96.0|\n",
      "|        Russia|              null|           9.0|      972.0|       99399.0|\n",
      "|            US|          Michigan|           0.0|      959.0|        9315.0|\n",
      "+--------------+------------------+--------------+-----------+--------------+\n",
      "only showing top 5 rows"
     ]
    }
   ],
   "source": [
    "data1.show(5)"
   ]
  },
  {
   "cell_type": "code",
   "execution_count": null,
   "id": "a7ca3ae6",
   "metadata": {},
   "outputs": [],
   "source": []
  }
 ],
 "metadata": {
  "kernelspec": {
   "display_name": "PySpark",
   "language": "",
   "name": "pysparkkernel"
  },
  "language_info": {
   "codemirror_mode": {
    "name": "python",
    "version": 3
   },
   "mimetype": "text/x-python",
   "name": "pyspark",
   "pygments_lexer": "python3"
  }
 },
 "nbformat": 4,
 "nbformat_minor": 5
}
